{
 "cells": [
  {
   "cell_type": "markdown",
   "metadata": {},
   "source": [
    "# Error messages"
   ]
  },
  {
   "cell_type": "markdown",
   "metadata": {},
   "source": [
    "* Very important\n",
    "* Have lots of information in them\n",
    "* Take the time to read them.\n",
    "* If you get multiple error messages, the first one is the most important, then the last one, then the others in the middle.\n",
    "\n",
    "\n",
    "An error message has 4 parts:\n",
    "\n",
    "* The stack trace\n",
    "* The error itself and a small description (**the most important**) (only 1 line)\n",
    "* Sometimes: extra details\n",
    "* Sometimes: hint to help you get more information"
   ]
  },
  {
   "cell_type": "markdown",
   "metadata": {},
   "source": [
    "Here is an example of code with a user error. Don't try to find the error by code inspection, check only the error:"
   ]
  },
  {
   "cell_type": "code",
   "execution_count": 1,
   "metadata": {
    "collapsed": false
   },
   "outputs": [
    {
     "ename": "ValueError",
     "evalue": "Input dimension mis-match. (input[0].shape[0] = 2, input[1].shape[0] = 3)\nApply node that caused the error: Elemwise{Composite{((i0 + i0) * i1)}}(<TensorType(float64, vector)>, <TensorType(float64, vector)>)\nToposort index: 0\nInputs types: [TensorType(float64, vector), TensorType(float64, vector)]\nInputs shapes: [(2,), (3,)]\nInputs strides: [(8,), (8,)]\nInputs values: [array([ 1.,  1.]), array([ 1.,  1.,  1.])]\nOutputs clients: [['output']]\n\nDebugprint of the apply node: \nElemwise{Composite{((i0 + i0) * i1)}} [@A] <TensorType(float64, vector)> ''   \n |<TensorType(float64, vector)> [@B] <TensorType(float64, vector)>\n |<TensorType(float64, vector)> [@C] <TensorType(float64, vector)>\n\nStorage map footprint:\n - <TensorType(float64, vector)>, Input, Shape: (3,), ElemSize: 8 Byte(s), TotalSize: 24 Byte(s)\n - <TensorType(float64, vector)>, Input, Shape: (2,), ElemSize: 8 Byte(s), TotalSize: 16 Byte(s)\n TotalSize: 40 Byte(s) 0.000 GB\n TotalSize inputs: 40 Byte(s) 0.000 BG\n\nHINT: Re-running with most Theano optimization disabled could give you a back-trace of when this node was created. This can be done with by setting the Theano flag 'optimizer=fast_compile'. If that does not work, Theano optimizations can be disabled with 'optimizer=None'.",
     "output_type": "error",
     "traceback": [
      "\u001b[1;31m---------------------------------------------------------------------------\u001b[0m",
      "\u001b[1;31mValueError\u001b[0m                                Traceback (most recent call last)",
      "\u001b[1;32m<ipython-input-1-1c52c188c23d>\u001b[0m in \u001b[0;36m<module>\u001b[1;34m()\u001b[0m\n\u001b[0;32m      7\u001b[0m \u001b[0mz\u001b[0m \u001b[1;33m=\u001b[0m \u001b[0mz\u001b[0m \u001b[1;33m*\u001b[0m \u001b[0my\u001b[0m\u001b[1;33m\u001b[0m\u001b[0m\n\u001b[0;32m      8\u001b[0m \u001b[0mf\u001b[0m \u001b[1;33m=\u001b[0m \u001b[0mtheano\u001b[0m\u001b[1;33m.\u001b[0m\u001b[0mfunction\u001b[0m\u001b[1;33m(\u001b[0m\u001b[1;33m[\u001b[0m\u001b[0mx\u001b[0m\u001b[1;33m,\u001b[0m \u001b[0my\u001b[0m\u001b[1;33m]\u001b[0m\u001b[1;33m,\u001b[0m \u001b[0mz\u001b[0m\u001b[1;33m)\u001b[0m\u001b[1;33m\u001b[0m\u001b[0m\n\u001b[1;32m----> 9\u001b[1;33m \u001b[0mf\u001b[0m\u001b[1;33m(\u001b[0m\u001b[0mnp\u001b[0m\u001b[1;33m.\u001b[0m\u001b[0mones\u001b[0m\u001b[1;33m(\u001b[0m\u001b[1;33m(\u001b[0m\u001b[1;36m2\u001b[0m\u001b[1;33m,\u001b[0m\u001b[1;33m)\u001b[0m\u001b[1;33m)\u001b[0m\u001b[1;33m,\u001b[0m \u001b[0mnp\u001b[0m\u001b[1;33m.\u001b[0m\u001b[0mones\u001b[0m\u001b[1;33m(\u001b[0m\u001b[1;33m(\u001b[0m\u001b[1;36m3\u001b[0m\u001b[1;33m,\u001b[0m\u001b[1;33m)\u001b[0m\u001b[1;33m)\u001b[0m\u001b[1;33m)\u001b[0m\u001b[1;33m\u001b[0m\u001b[0m\n\u001b[0m",
      "\u001b[1;32m/u/bastienf/repos/theano/compile/function_module.pyc\u001b[0m in \u001b[0;36m__call__\u001b[1;34m(self, *args, **kwargs)\u001b[0m\n\u001b[0;32m    616\u001b[0m                         \u001b[0mself\u001b[0m\u001b[1;33m.\u001b[0m\u001b[0mfn\u001b[0m\u001b[1;33m.\u001b[0m\u001b[0mnodes\u001b[0m\u001b[1;33m[\u001b[0m\u001b[0mself\u001b[0m\u001b[1;33m.\u001b[0m\u001b[0mfn\u001b[0m\u001b[1;33m.\u001b[0m\u001b[0mposition_of_error\u001b[0m\u001b[1;33m]\u001b[0m\u001b[1;33m,\u001b[0m\u001b[1;33m\u001b[0m\u001b[0m\n\u001b[0;32m    617\u001b[0m                         \u001b[0mself\u001b[0m\u001b[1;33m.\u001b[0m\u001b[0mfn\u001b[0m\u001b[1;33m.\u001b[0m\u001b[0mthunks\u001b[0m\u001b[1;33m[\u001b[0m\u001b[0mself\u001b[0m\u001b[1;33m.\u001b[0m\u001b[0mfn\u001b[0m\u001b[1;33m.\u001b[0m\u001b[0mposition_of_error\u001b[0m\u001b[1;33m]\u001b[0m\u001b[1;33m,\u001b[0m\u001b[1;33m\u001b[0m\u001b[0m\n\u001b[1;32m--> 618\u001b[1;33m                         storage_map=self.fn.storage_map)\n\u001b[0m\u001b[0;32m    619\u001b[0m                 \u001b[1;32melse\u001b[0m\u001b[1;33m:\u001b[0m\u001b[1;33m\u001b[0m\u001b[0m\n\u001b[0;32m    620\u001b[0m                     \u001b[1;31m# For the c linker We don't have access from\u001b[0m\u001b[1;33m\u001b[0m\u001b[1;33m\u001b[0m\u001b[0m\n",
      "\u001b[1;32m/u/bastienf/repos/theano/gof/link.pyc\u001b[0m in \u001b[0;36mraise_with_op\u001b[1;34m(node, thunk, exc_info, storage_map)\u001b[0m\n\u001b[0;32m    295\u001b[0m     exc_value = exc_type(str(exc_value) + detailed_err_msg +\n\u001b[0;32m    296\u001b[0m                          '\\n' + '\\n'.join(hints))\n\u001b[1;32m--> 297\u001b[1;33m     \u001b[0mreraise\u001b[0m\u001b[1;33m(\u001b[0m\u001b[0mexc_type\u001b[0m\u001b[1;33m,\u001b[0m \u001b[0mexc_value\u001b[0m\u001b[1;33m,\u001b[0m \u001b[0mexc_trace\u001b[0m\u001b[1;33m)\u001b[0m\u001b[1;33m\u001b[0m\u001b[0m\n\u001b[0m\u001b[0;32m    298\u001b[0m \u001b[1;33m\u001b[0m\u001b[0m\n\u001b[0;32m    299\u001b[0m \u001b[1;33m\u001b[0m\u001b[0m\n",
      "\u001b[1;32m/u/bastienf/repos/theano/compile/function_module.pyc\u001b[0m in \u001b[0;36m__call__\u001b[1;34m(self, *args, **kwargs)\u001b[0m\n\u001b[0;32m    605\u001b[0m         \u001b[0mt0_fn\u001b[0m \u001b[1;33m=\u001b[0m \u001b[0mtime\u001b[0m\u001b[1;33m.\u001b[0m\u001b[0mtime\u001b[0m\u001b[1;33m(\u001b[0m\u001b[1;33m)\u001b[0m\u001b[1;33m\u001b[0m\u001b[0m\n\u001b[0;32m    606\u001b[0m         \u001b[1;32mtry\u001b[0m\u001b[1;33m:\u001b[0m\u001b[1;33m\u001b[0m\u001b[0m\n\u001b[1;32m--> 607\u001b[1;33m             \u001b[0moutputs\u001b[0m \u001b[1;33m=\u001b[0m \u001b[0mself\u001b[0m\u001b[1;33m.\u001b[0m\u001b[0mfn\u001b[0m\u001b[1;33m(\u001b[0m\u001b[1;33m)\u001b[0m\u001b[1;33m\u001b[0m\u001b[0m\n\u001b[0m\u001b[0;32m    608\u001b[0m         \u001b[1;32mexcept\u001b[0m \u001b[0mException\u001b[0m\u001b[1;33m:\u001b[0m\u001b[1;33m\u001b[0m\u001b[0m\n\u001b[0;32m    609\u001b[0m             \u001b[1;32mif\u001b[0m \u001b[0mhasattr\u001b[0m\u001b[1;33m(\u001b[0m\u001b[0mself\u001b[0m\u001b[1;33m.\u001b[0m\u001b[0mfn\u001b[0m\u001b[1;33m,\u001b[0m \u001b[1;34m'position_of_error'\u001b[0m\u001b[1;33m)\u001b[0m\u001b[1;33m:\u001b[0m\u001b[1;33m\u001b[0m\u001b[0m\n",
      "\u001b[1;31mValueError\u001b[0m: Input dimension mis-match. (input[0].shape[0] = 2, input[1].shape[0] = 3)\nApply node that caused the error: Elemwise{Composite{((i0 + i0) * i1)}}(<TensorType(float64, vector)>, <TensorType(float64, vector)>)\nToposort index: 0\nInputs types: [TensorType(float64, vector), TensorType(float64, vector)]\nInputs shapes: [(2,), (3,)]\nInputs strides: [(8,), (8,)]\nInputs values: [array([ 1.,  1.]), array([ 1.,  1.,  1.])]\nOutputs clients: [['output']]\n\nDebugprint of the apply node: \nElemwise{Composite{((i0 + i0) * i1)}} [@A] <TensorType(float64, vector)> ''   \n |<TensorType(float64, vector)> [@B] <TensorType(float64, vector)>\n |<TensorType(float64, vector)> [@C] <TensorType(float64, vector)>\n\nStorage map footprint:\n - <TensorType(float64, vector)>, Input, Shape: (3,), ElemSize: 8 Byte(s), TotalSize: 24 Byte(s)\n - <TensorType(float64, vector)>, Input, Shape: (2,), ElemSize: 8 Byte(s), TotalSize: 16 Byte(s)\n TotalSize: 40 Byte(s) 0.000 GB\n TotalSize inputs: 40 Byte(s) 0.000 BG\n\nHINT: Re-running with most Theano optimization disabled could give you a back-trace of when this node was created. This can be done with by setting the Theano flag 'optimizer=fast_compile'. If that does not work, Theano optimizations can be disabled with 'optimizer=None'."
     ]
    }
   ],
   "source": [
    "import numpy as np\n",
    "import theano\n",
    "import theano.tensor as T\n",
    "x = T.vector()\n",
    "y = T.vector()\n",
    "z = x + x\n",
    "z = z * y\n",
    "f = theano.function([x, y], z)\n",
    "f(np.ones((2,)), np.ones((3,)))"
   ]
  },
  {
   "cell_type": "markdown",
   "metadata": {},
   "source": [
    "# Where in your code does this error come from?\n",
    "\n",
    "The HINT tells you how to get a better error message.\n",
    "In Python, you can pass the parameter `mode=theano.Mode(optimizer=TODO)` to `theano.function`, instead of changing the Theano flag.\n",
    "\n",
    "This allows you to see in your code, which line caused the problem!"
   ]
  },
  {
   "cell_type": "code",
   "execution_count": null,
   "metadata": {
    "collapsed": false
   },
   "outputs": [],
   "source": [
    "# TODO: finish to define the mode below\n",
    "mode=...\n",
    "\n",
    "import numpy as np\n",
    "import theano\n",
    "import theano.tensor as T\n",
    "x = T.vector()\n",
    "y = T.vector()\n",
    "z = x + x\n",
    "z = z * y\n",
    "f = theano.function([x, y], z, mode=mode)\n",
    "f(np.ones((2,)), np.ones((3,)))"
   ]
  },
  {
   "cell_type": "markdown",
   "metadata": {},
   "source": [
    "## Stack trace\n",
    "The stack trace can be very useful. You don't need to understand the part in Theano (where the file is inside `theano/`), just check the part coming from your code files."
   ]
  },
  {
   "cell_type": "markdown",
   "metadata": {},
   "source": [
    "# DebugMode\n",
    "\n",
    "Checks and double-checks everything, extremely slow.\n",
    "\n",
    "* Compares Python, C and GPU implementations.\n",
    "* Compares values before and after each optimization.\n",
    "* By default, raises an error on NaN.\n",
    "* Sensitive: so frequently reported errors are OK.\n",
    "\n",
    "Use the Theano flag `mode=DebugMode` or the the parameter `mode=theano.compile.DebugMode()` to `theano.function()`."
   ]
  },
  {
   "cell_type": "markdown",
   "metadata": {},
   "source": [
    "# Python debugger (PDB)"
   ]
  },
  {
   "cell_type": "markdown",
   "metadata": {},
   "source": [
    "PDB is similar to GDB\n",
    "\n",
    "* `n`: next\n",
    "* `c`: continue\n",
    "* `l`: list\n",
    "* `p var`: print\n",
    "* `s`: step,\n",
    "* `bt`: print the stack trace\n",
    "* ...\n",
    "\n",
    "To get into PDB:\n",
    "\n",
    "* `import pdb; pdb.set_trace()`\n",
    "* `python -m pdb script.py`\n",
    "\n",
    "To get into PDB with Theano:\n",
    "\n",
    "* Some Theano flags:\n",
    "  * `mode=FAST_COMPILE` disables most of optimizations, and C code generation.\n",
    "  * `linker=py` disables C code generation.\n",
    "  * `warn_float64=pdb`\n",
    "  * ...\n",
    "* `PdbBreakpoint`: breakpoint during execution.\n"
   ]
  },
  {
   "cell_type": "markdown",
   "metadata": {},
   "source": [
    "# Breakpoint during execution"
   ]
  },
  {
   "cell_type": "code",
   "execution_count": null,
   "metadata": {
    "collapsed": false
   },
   "outputs": [],
   "source": [
    "import theano\n",
    "import theano.tensor as T\n",
    "from theano.tests.breakpoint import PdbBreakpoint\n",
    "input, target = T.fvectors(['x', 'y'])\n",
    "\n",
    "mse = (input - target) ** 2\n",
    "\n",
    "# Conditional breakpoint to be activated if the total\n",
    "# MSE > 100. The breakpoint will monitor the inputs,\n",
    "# targets as well as the individual error values\n",
    "breakpointOp = PdbBreakpoint(\"MSE too high\")\n",
    "condition = T.gt(mse.sum(), 100)\n",
    "mse, monitored_input, monitored_target = breakpointOp(\n",
    "    condition, mse, input, target)\n",
    "\n",
    "# Compile the theano function\n",
    "fct = theano.function([input, target], mse)\n",
    "\n",
    "# Use the function\n",
    "print fct([10, 0], [10, 5]) # Will NOT activate the breakpoint\n",
    "print fct([0, 0], [10, 5]) # Will activate the breakpoint"
   ]
  },
  {
   "cell_type": "markdown",
   "metadata": {},
   "source": [
    "# Printing during execution "
   ]
  },
  {
   "cell_type": "code",
   "execution_count": null,
   "metadata": {
    "collapsed": false
   },
   "outputs": [],
   "source": [
    "import theano\n",
    "\n",
    "x = theano.tensor.vector()\n",
    "o = theano.printing.Print(\"a message\")(x)\n",
    "f = theano.function([x], o)\n",
    "d = f([3, 4])"
   ]
  },
  {
   "cell_type": "markdown",
   "metadata": {},
   "source": [
    "## Printing attributes of a variable"
   ]
  },
  {
   "cell_type": "code",
   "execution_count": null,
   "metadata": {
    "collapsed": false
   },
   "outputs": [],
   "source": [
    "o = theano.printing.Print(\"Attributes of x:\", attrs=('min', 'mean', 'max'))(x)\n",
    "f = theano.function([x], o)\n",
    "d = f([3, 1, 4, 9])"
   ]
  },
  {
   "cell_type": "markdown",
   "metadata": {},
   "source": [
    "# Most Frequent NaN Causes\n",
    "\n",
    "* Hyperparameters (ex: learning rate)\n",
    "* Initialization of parameters\n",
    "* Numerical Stability\n",
    "* Algorithm Related\n",
    "\n",
    "Run in `NanGuardMode`, `DebugMode`, or `MonitorMode`."
   ]
  },
  {
   "cell_type": "markdown",
   "metadata": {},
   "source": [
    "# NanGuardMode\n",
    "\n",
    "Can check for:\n",
    "* Nan\n",
    "* Inf\n",
    "* Big values (greater than 1e10)"
   ]
  },
  {
   "cell_type": "code",
   "execution_count": null,
   "metadata": {
    "collapsed": false
   },
   "outputs": [],
   "source": [
    "import numpy\n",
    "\n",
    "import theano\n",
    "import theano.compile.nanguardmode\n",
    "from theano import tensor as T\n",
    "\n",
    "x = T.matrix()\n",
    "w = theano.shared(numpy.random.randn(5, 7).astype(theano.config.floatX))\n",
    "y = T.dot(x, w)\n",
    "mode=theano.compile.nanguardmode.NanGuardMode(nan_is_error=True,\n",
    "                  inf_is_error=True,\n",
    "                  big_is_error=True)\n",
    "fun = theano.function(\n",
    "    [x], y, mode=mode)\n",
    "infa = numpy.tile(\n",
    "    (numpy.asarray(100.) ** 1000000), (3, 5))\n",
    "fun(infa)"
   ]
  },
  {
   "cell_type": "markdown",
   "metadata": {},
   "source": [
    "# Test Value\n",
    "\n",
    "Give sample values to symbolic variables and have the graph execute\n",
    "as it is being built. This allows to get some type of error like shape\n",
    "errors when you build the graph instead of during the execution.\n"
   ]
  },
  {
   "cell_type": "code",
   "execution_count": null,
   "metadata": {
    "collapsed": false
   },
   "outputs": [],
   "source": [
    "# Can also be 'off', 'ignore', 'raise', 'pdb'\n",
    "theano.config.compute_test_value = 'warn'\n",
    "\n",
    "# input which will be of shape (5, 10)\n",
    "x, y  = T.matrices('xy')\n",
    "\n",
    "# provide Theano with a default test-value\n",
    "x.tag.test_value = numpy.random.rand(5, 10)\n",
    "y.tag.test_value = numpy.random.rand(4, 10)\n",
    "\n",
    "x + y # warn about the shape error"
   ]
  },
  {
   "cell_type": "markdown",
   "metadata": {},
   "source": [
    "# Others\n",
    "\n",
    "* `theano.tensor.opt.AssertOp`\n",
    "  * Assertion during execution\n",
    "* `theano.printing.{debugprint,pydotprint}`\n",
    "  * Text and graphic display of Theano graphs\n",
    "* Flag: `profile=True`\n",
    "  * Profiles the execution time of Theano function\n",
    "* Flag: `exception_verbosity=True`\n",
    "  * Extra verbose errors, ex: for `MemoryError`\n",
    "* Flag: `warn_float64='pdb'`\n",
    "  * Allows to know where `float64` are build in the graph\n",
    "  \n",
    "## Advanced\n",
    "\n",
    "* Flag: `on_opt_error=True`\n",
    "  * Makes Theano stop on optimization error instead of skipping the optimization in question\n",
    "* Flag: `optimizer_verbose=True`\n",
    "  * Makes Theano print each optimization it applies"
   ]
  }
 ],
 "metadata": {
  "kernelspec": {
   "display_name": "Python 2",
   "language": "python",
   "name": "python2"
  },
  "language_info": {
   "codemirror_mode": {
    "name": "ipython",
    "version": 2
   },
   "file_extension": ".py",
   "mimetype": "text/x-python",
   "name": "python",
   "nbconvert_exporter": "python",
   "pygments_lexer": "ipython2",
   "version": "2.7.10"
  }
 },
 "nbformat": 4,
 "nbformat_minor": 0
}
